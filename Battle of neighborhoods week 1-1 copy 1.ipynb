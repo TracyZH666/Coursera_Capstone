{
    "cells": [
        {
            "metadata": {
                "collapsed": true
            },
            "cell_type": "markdown",
            "source": "# Introduction\n\nNew York City (NYC), the capital city of USA, is the most populous city of USA. NYC is growing as the famous international center of business, finance, arts and culture with population of 8,336,817 in 2019. And great NYC area continues to be the leading gateway for immigrants into USA. NYC has established many ethnic neighborhoods such as Chinatowns, Koreatowns, Little India, Greektown etc.\n\nThis project will explore the best location for opening a new Indian restaurant across NYC area. As one of the most multicultural and diverse cities in the world, NYC has a great inclusiveness for diverse exotic food and different ethnical restaurants. Indian cuisine is an important part of the whole world cuisine, originating from distinct regions of India with a long history. The variety of Indian food is quite large with special favors. The diversified color, aromatic flavor, as well as excellent taste makes the potential success of opening a new Indian restaurant especially in modern city like NYC.\n\nHowever, careful considerations of multiple relevant factors need to be required at the beginning. In particular, the location of the restaurant is one of the most important factors that will affect whether it will have success or a failure. Therefore, this project will answer two main questions: 1). Where should the investor open a new Indian restaurant? 2). Where to find a great Indian restaurant?"
        },
        {
            "metadata": {},
            "cell_type": "markdown",
            "source": "# Methods\n1. Collect the NYC data containing all of the neighborhood, postal code and boroughs from above datasets.\n2. Collect all venues of each neighborhood using Foursquare API and filter out all of venues for Indian restaurants.\n3. Prepare data for machine learning: select data, preprocess data and transform data.\n4. Data visualization, statistical analysis.\n5. Analysis using clustering (K-means)\n6. Compare the neighborhoods to find the best place for opening a new Indian restaurant.\n7. Summary of Results and Conclusions."
        },
        {
            "metadata": {},
            "cell_type": "markdown",
            "source": "# Problems\n1. Where should the investor open a new Indian restaurant?\n2. Where to find a great Indian restaurant?"
        },
        {
            "metadata": {},
            "cell_type": "markdown",
            "source": "# Data\nBased on the purpose of our project and solve the questions above, several datasets are needed:\n1.\tDatasets on NYC location data including neighborhoods, boroughs, longitudes will be obtained from the data sources: \nhttps://cocl.us/new_york_dataset\n2.\tIndian restaurants in NYC neighborhoods: \nData will be obtained from Foursquare API and venues of Chinese restaurants in Toronto neighborhoods will be collected including restaurants\u2019 ratings, tips, users likes. \n3. GeoSpace data Data source to get the New york Borough boundaries that will help us visualize choropleth map:\nhttps://data.cityofnewyork.us/City-Government/Borough-Boundaries/tqmj-j8zm. "
        }
    ],
    "metadata": {
        "kernelspec": {
            "name": "python3",
            "display_name": "Python 3.7",
            "language": "python"
        },
        "language_info": {
            "name": "python",
            "version": "3.7.9",
            "mimetype": "text/x-python",
            "codemirror_mode": {
                "name": "ipython",
                "version": 3
            },
            "pygments_lexer": "ipython3",
            "nbconvert_exporter": "python",
            "file_extension": ".py"
        }
    },
    "nbformat": 4,
    "nbformat_minor": 1
}